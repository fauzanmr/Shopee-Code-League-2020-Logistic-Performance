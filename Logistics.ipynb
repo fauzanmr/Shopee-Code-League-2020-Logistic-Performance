{
  "nbformat": 4,
  "nbformat_minor": 0,
  "metadata": {
    "colab": {
      "name": "Shopee_Logistics.ipynb",
      "provenance": [],
      "collapsed_sections": []
    },
    "kernelspec": {
      "name": "python3",
      "display_name": "Python 3"
    }
  },
  "cells": [
    {
      "cell_type": "code",
      "metadata": {
        "id": "PtdDjouKkeMz"
      },
      "source": [
        "import pandas as pd \n",
        "import numpy as np "
      ],
      "execution_count": null,
      "outputs": []
    },
    {
      "cell_type": "code",
      "metadata": {
        "id": "U5NljdNMlQnP",
        "colab": {
          "base_uri": "https://localhost:8080/",
          "height": 313
        },
        "outputId": "d3247712-a5e4-4224-feb4-eccbde2d197f"
      },
      "source": [
        "delivery = pd.read_csv('/content/delivery_orders_march.csv')\n",
        "delivery.head()"
      ],
      "execution_count": null,
      "outputs": [
        {
          "output_type": "execute_result",
          "data": {
            "text/html": [
              "<div>\n",
              "<style scoped>\n",
              "    .dataframe tbody tr th:only-of-type {\n",
              "        vertical-align: middle;\n",
              "    }\n",
              "\n",
              "    .dataframe tbody tr th {\n",
              "        vertical-align: top;\n",
              "    }\n",
              "\n",
              "    .dataframe thead th {\n",
              "        text-align: right;\n",
              "    }\n",
              "</style>\n",
              "<table border=\"1\" class=\"dataframe\">\n",
              "  <thead>\n",
              "    <tr style=\"text-align: right;\">\n",
              "      <th></th>\n",
              "      <th>orderid</th>\n",
              "      <th>pick</th>\n",
              "      <th>1st_deliver_attempt</th>\n",
              "      <th>2nd_deliver_attempt</th>\n",
              "      <th>buyeraddress</th>\n",
              "      <th>selleraddress</th>\n",
              "    </tr>\n",
              "  </thead>\n",
              "  <tbody>\n",
              "    <tr>\n",
              "      <th>0</th>\n",
              "      <td>2215676524</td>\n",
              "      <td>1583138397</td>\n",
              "      <td>1.583385e+09</td>\n",
              "      <td>NaN</td>\n",
              "      <td>Baging ldl BUENAVISTA,PATAG.CAGAYAN Buagsong,c...</td>\n",
              "      <td>Pantranco vill. 417 Warehouse# katipunan 532 (...</td>\n",
              "    </tr>\n",
              "    <tr>\n",
              "      <th>1</th>\n",
              "      <td>2219624609</td>\n",
              "      <td>1583309968</td>\n",
              "      <td>1.583463e+09</td>\n",
              "      <td>1.583799e+09</td>\n",
              "      <td>coloma's quzom CASANAS Site1 Masiyan 533A Stol...</td>\n",
              "      <td>BLDG 210A Moras C42B 2B16,168 church) Complex ...</td>\n",
              "    </tr>\n",
              "    <tr>\n",
              "      <th>2</th>\n",
              "      <td>2220979489</td>\n",
              "      <td>1583306434</td>\n",
              "      <td>1.583460e+09</td>\n",
              "      <td>NaN</td>\n",
              "      <td>21-O LumangDaan,Capitangan,Abucay,Bataan .Bign...</td>\n",
              "      <td>#66 150-C, DRIVE, Milagros Joe socorro Metro M...</td>\n",
              "    </tr>\n",
              "    <tr>\n",
              "      <th>3</th>\n",
              "      <td>2221066352</td>\n",
              "      <td>1583419016</td>\n",
              "      <td>1.583556e+09</td>\n",
              "      <td>NaN</td>\n",
              "      <td>616Espiritu MARTINVILLE,MANUYO #5paraiso kengi...</td>\n",
              "      <td>999maII 201,26 Villaruel Barretto gen.t number...</td>\n",
              "    </tr>\n",
              "    <tr>\n",
              "      <th>4</th>\n",
              "      <td>2222478803</td>\n",
              "      <td>1583318305</td>\n",
              "      <td>1.583480e+09</td>\n",
              "      <td>NaN</td>\n",
              "      <td>L042 Summerbreezee1 L2(Balanay analyn Lot760 C...</td>\n",
              "      <td>G66MANILA Hiyas Fitness MAYSILO magdiwang Lt.4...</td>\n",
              "    </tr>\n",
              "  </tbody>\n",
              "</table>\n",
              "</div>"
            ],
            "text/plain": [
              "      orderid  ...                                      selleraddress\n",
              "0  2215676524  ...  Pantranco vill. 417 Warehouse# katipunan 532 (...\n",
              "1  2219624609  ...  BLDG 210A Moras C42B 2B16,168 church) Complex ...\n",
              "2  2220979489  ...  #66 150-C, DRIVE, Milagros Joe socorro Metro M...\n",
              "3  2221066352  ...  999maII 201,26 Villaruel Barretto gen.t number...\n",
              "4  2222478803  ...  G66MANILA Hiyas Fitness MAYSILO magdiwang Lt.4...\n",
              "\n",
              "[5 rows x 6 columns]"
            ]
          },
          "metadata": {
            "tags": []
          },
          "execution_count": 2
        }
      ]
    },
    {
      "cell_type": "code",
      "metadata": {
        "id": "0LjN2T3pmaQq"
      },
      "source": [
        "#changing the event_time data type into datetime\n",
        "import time\n",
        "#time.strftime('%Y-%m-%d %H:%M:%S', time.localtime(1347517370))\n",
        "delivery['1st_deliver_attempt'] = delivery['1st_deliver_attempt'].apply(lambda x:time.strftime('%Y-%m-%d', time.localtime(x)))"
      ],
      "execution_count": null,
      "outputs": []
    },
    {
      "cell_type": "code",
      "metadata": {
        "id": "fNXXX7d5n2Gs"
      },
      "source": [
        "import math\n",
        "x = []\n",
        "for i in delivery['2nd_deliver_attempt']: \n",
        "  if math.isnan(i) == True :  \n",
        "    x.append(None)\n",
        "  else : \n",
        "    x.append(time.strftime('%Y-%m-%d', time.localtime(i)))\n",
        "\n",
        "delivery['2nd_deliver_attempt'] = x"
      ],
      "execution_count": null,
      "outputs": []
    },
    {
      "cell_type": "code",
      "metadata": {
        "id": "G4n7IV4WrlXj"
      },
      "source": [
        "from datetime import date, timedelta, datetime\n",
        "\n",
        "def all_sundays(year):\n",
        "# January 1st of the given year\n",
        "       dt = date(year, 1, 1)\n",
        "# First Sunday of the given year       \n",
        "       dt += timedelta(days = 6 - dt.weekday())  \n",
        "       while dt.year == year:\n",
        "          yield dt\n",
        "          dt += timedelta(days = 7)\n",
        "          \n",
        "list_holiday = [s for s in all_sundays(2020)]   \n",
        "add_holiday = ['2020-03-25','2020-03-30','2020-03-31']\n",
        "add_holiday2 = [datetime.strptime(i, \"%Y-%m-%d\") for i in add_holiday]\n",
        "\n",
        "#add_holiday = add_holiday.apply(lambda x:datetime.strptime(x, \"%Y-%m-%d\"))\n",
        "# 2020-03-08 (Sunday);\n",
        "# 2020-03-25 (Wednesday);\n",
        "# 2020-03-30 (Monday);\n",
        "# 2020-03-31 (Tuesday)\n",
        "\n",
        "list_holiday = list_holiday + add_holiday2"
      ],
      "execution_count": null,
      "outputs": []
    },
    {
      "cell_type": "code",
      "metadata": {
        "id": "5NgqfRG-uAgU"
      },
      "source": [
        "buyer_city = []\n",
        "for i in delivery['buyeraddress'] : \n",
        "  if 'metro manila' in i.lower() : \n",
        "    buyer_city.append('metro manila')\n",
        "  elif 'luzon' in i.lower() : \n",
        "    buyer_city.append('luzon')\n",
        "  elif 'visayas' in i.lower() : \n",
        "    buyer_city.append('visayas') \n",
        "  elif 'mindanao' in i.lower() : \n",
        "    buyer_city.append('mindanao')\n",
        "  else : \n",
        "    buyer_city.append(None)"
      ],
      "execution_count": null,
      "outputs": []
    },
    {
      "cell_type": "code",
      "metadata": {
        "id": "E19kLF8_xv7b"
      },
      "source": [
        "seller_city = []\n",
        "for i in delivery['selleraddress'] : \n",
        "  if 'metro manila' in i.lower() : \n",
        "    seller_city.append('metro manila')\n",
        "  elif 'luzon' in i.lower() : \n",
        "    seller_city.append('luzon')\n",
        "  elif 'visayas' in i.lower() : \n",
        "    seller_city.append('visayas') \n",
        "  elif 'mindanao' in i.lower() : \n",
        "    seller_city.append('mindanao')\n",
        "  else : \n",
        "    seller_city.append(None)"
      ],
      "execution_count": null,
      "outputs": []
    },
    {
      "cell_type": "code",
      "metadata": {
        "id": "YVvCH2vDyE1q"
      },
      "source": [
        "delivery['buyer_city'] = buyer_city\n",
        "delivery['seller_city'] = seller_city"
      ],
      "execution_count": null,
      "outputs": []
    },
    {
      "cell_type": "code",
      "metadata": {
        "id": "HLaWKwaByYi4"
      },
      "source": [
        "#delivery[delivery['seller_city'] == None]\n",
        "#delivery.head()"
      ],
      "execution_count": null,
      "outputs": []
    },
    {
      "cell_type": "code",
      "metadata": {
        "id": "jOI8W1m6zaxw"
      },
      "source": [
        "delivery['pick'] = delivery['pick'].apply(lambda x:time.strftime('%Y-%m-%d', time.localtime(x)))"
      ],
      "execution_count": null,
      "outputs": []
    },
    {
      "cell_type": "code",
      "metadata": {
        "id": "-8tBLiXB0HPa",
        "colab": {
          "base_uri": "https://localhost:8080/",
          "height": 447
        },
        "outputId": "5d6fb84b-7ee5-4ca6-dc22-3ed5a87de8aa"
      },
      "source": [
        "delivery.head()"
      ],
      "execution_count": null,
      "outputs": [
        {
          "output_type": "execute_result",
          "data": {
            "text/html": [
              "<div>\n",
              "<style scoped>\n",
              "    .dataframe tbody tr th:only-of-type {\n",
              "        vertical-align: middle;\n",
              "    }\n",
              "\n",
              "    .dataframe tbody tr th {\n",
              "        vertical-align: top;\n",
              "    }\n",
              "\n",
              "    .dataframe thead th {\n",
              "        text-align: right;\n",
              "    }\n",
              "</style>\n",
              "<table border=\"1\" class=\"dataframe\">\n",
              "  <thead>\n",
              "    <tr style=\"text-align: right;\">\n",
              "      <th></th>\n",
              "      <th>orderid</th>\n",
              "      <th>pick</th>\n",
              "      <th>1st_deliver_attempt</th>\n",
              "      <th>2nd_deliver_attempt</th>\n",
              "      <th>buyeraddress</th>\n",
              "      <th>selleraddress</th>\n",
              "      <th>buyer_city</th>\n",
              "      <th>seller_city</th>\n",
              "    </tr>\n",
              "  </thead>\n",
              "  <tbody>\n",
              "    <tr>\n",
              "      <th>0</th>\n",
              "      <td>2215676524</td>\n",
              "      <td>2020-03-02</td>\n",
              "      <td>2020-03-05</td>\n",
              "      <td>None</td>\n",
              "      <td>Baging ldl BUENAVISTA,PATAG.CAGAYAN Buagsong,c...</td>\n",
              "      <td>Pantranco vill. 417 Warehouse# katipunan 532 (...</td>\n",
              "      <td>metro manila</td>\n",
              "      <td>metro manila</td>\n",
              "    </tr>\n",
              "    <tr>\n",
              "      <th>1</th>\n",
              "      <td>2219624609</td>\n",
              "      <td>2020-03-04</td>\n",
              "      <td>2020-03-06</td>\n",
              "      <td>2020-03-10</td>\n",
              "      <td>coloma's quzom CASANAS Site1 Masiyan 533A Stol...</td>\n",
              "      <td>BLDG 210A Moras C42B 2B16,168 church) Complex ...</td>\n",
              "      <td>metro manila</td>\n",
              "      <td>metro manila</td>\n",
              "    </tr>\n",
              "    <tr>\n",
              "      <th>2</th>\n",
              "      <td>2220979489</td>\n",
              "      <td>2020-03-04</td>\n",
              "      <td>2020-03-06</td>\n",
              "      <td>None</td>\n",
              "      <td>21-O LumangDaan,Capitangan,Abucay,Bataan .Bign...</td>\n",
              "      <td>#66 150-C, DRIVE, Milagros Joe socorro Metro M...</td>\n",
              "      <td>metro manila</td>\n",
              "      <td>metro manila</td>\n",
              "    </tr>\n",
              "    <tr>\n",
              "      <th>3</th>\n",
              "      <td>2221066352</td>\n",
              "      <td>2020-03-05</td>\n",
              "      <td>2020-03-07</td>\n",
              "      <td>None</td>\n",
              "      <td>616Espiritu MARTINVILLE,MANUYO #5paraiso kengi...</td>\n",
              "      <td>999maII 201,26 Villaruel Barretto gen.t number...</td>\n",
              "      <td>metro manila</td>\n",
              "      <td>metro manila</td>\n",
              "    </tr>\n",
              "    <tr>\n",
              "      <th>4</th>\n",
              "      <td>2222478803</td>\n",
              "      <td>2020-03-04</td>\n",
              "      <td>2020-03-06</td>\n",
              "      <td>None</td>\n",
              "      <td>L042 Summerbreezee1 L2(Balanay analyn Lot760 C...</td>\n",
              "      <td>G66MANILA Hiyas Fitness MAYSILO magdiwang Lt.4...</td>\n",
              "      <td>luzon</td>\n",
              "      <td>metro manila</td>\n",
              "    </tr>\n",
              "  </tbody>\n",
              "</table>\n",
              "</div>"
            ],
            "text/plain": [
              "      orderid        pick  ...    buyer_city   seller_city\n",
              "0  2215676524  2020-03-02  ...  metro manila  metro manila\n",
              "1  2219624609  2020-03-04  ...  metro manila  metro manila\n",
              "2  2220979489  2020-03-04  ...  metro manila  metro manila\n",
              "3  2221066352  2020-03-05  ...  metro manila  metro manila\n",
              "4  2222478803  2020-03-04  ...         luzon  metro manila\n",
              "\n",
              "[5 rows x 8 columns]"
            ]
          },
          "metadata": {
            "tags": []
          },
          "execution_count": 11
        }
      ]
    },
    {
      "cell_type": "code",
      "metadata": {
        "id": "JXaYiu1a0MQp"
      },
      "source": [
        "# #changing the event_time data type into datetime\n",
        "# from datetime import datetime\n",
        "# delivery['pick'] = delivery['pick'].apply(lambda x:datetime.strptime(x, \"%Y-%m-%d\"))\n",
        "# delivery['1st_deliver_attempt'] = delivery['1st_deliver_attempt'].apply(lambda x:datetime.strptime(x, \"%Y-%m-%d\"))\n",
        "# #delivery['2nd_deliver_attempt'] = delivery['2nd_deliver_attempt'].apply(lambda x:datetime.strptime(x, \"%Y-%m-%d\"))"
      ],
      "execution_count": null,
      "outputs": []
    },
    {
      "cell_type": "code",
      "metadata": {
        "id": "s_a-NxKb2NmQ"
      },
      "source": [
        "# #change into datetime\n",
        "# x = []\n",
        "# for i in delivery['2nd_deliver_attempt']: \n",
        "#   if i == None :  \n",
        "#     x.append('')\n",
        "#   else : \n",
        "#     x.append(datetime.strptime(i, \"%Y-%m-%d\"))\n",
        "\n",
        "# delivery['2nd_deliver_attempt'] = x"
      ],
      "execution_count": null,
      "outputs": []
    },
    {
      "cell_type": "code",
      "metadata": {
        "id": "d0QeRU2O5TqJ"
      },
      "source": [
        "sla_days = []\n",
        "for i,r in delivery.iterrows():\n",
        "  #seller = manila\n",
        "  if r['seller_city'] == 'metro manila' and r['buyer_city']== 'metro manila':\n",
        "    sla_days.append(3)\n",
        "  elif r['seller_city'] == 'metro manila' and r['buyer_city']== 'luzon':\n",
        "    sla_days.append(5)\n",
        "  elif r['seller_city'] == 'metro manila' and r['buyer_city']== 'visayas':\n",
        "    sla_days.append(7)\n",
        "  elif r['seller_city'] == 'metro manila' and r['buyer_city']== 'mindanao':\n",
        "    sla_days.append(7)\n",
        "  # seller = luzon\n",
        "  elif r['seller_city'] == 'luzon' and r['buyer_city']== 'metro manila':\n",
        "    sla_days.append(5)\n",
        "  elif r['seller_city'] == 'luzon' and r['buyer_city']== 'luzon':\n",
        "    sla_days.append(5)\n",
        "  elif r['seller_city'] == 'luzon' and r['buyer_city']== 'visayas':\n",
        "    sla_days.append(7)\n",
        "  elif r['seller_city'] == 'luzon' and r['buyer_city']== 'mindanao':\n",
        "    sla_days.append(7)\n",
        "  # seller = visayas\n",
        "  elif r['seller_city'] == 'visayas':\n",
        "    sla_days.append(7)\n",
        "  # seller = mindanao\n",
        "  elif r['seller_city'] == 'mindanao':\n",
        "    sla_days.append(7)\n",
        "  else : \n",
        "    sla_days.append(None)\n",
        "delivery['sla_days'] = sla_days"
      ],
      "execution_count": null,
      "outputs": []
    },
    {
      "cell_type": "code",
      "metadata": {
        "id": "T4GzrS-S6mdn",
        "colab": {
          "base_uri": "https://localhost:8080/",
          "height": 534
        },
        "outputId": "a1f58393-8731-4a16-f1cf-a60f41e8d6cd"
      },
      "source": [
        "delivery.head()"
      ],
      "execution_count": null,
      "outputs": [
        {
          "output_type": "execute_result",
          "data": {
            "text/html": [
              "<div>\n",
              "<style scoped>\n",
              "    .dataframe tbody tr th:only-of-type {\n",
              "        vertical-align: middle;\n",
              "    }\n",
              "\n",
              "    .dataframe tbody tr th {\n",
              "        vertical-align: top;\n",
              "    }\n",
              "\n",
              "    .dataframe thead th {\n",
              "        text-align: right;\n",
              "    }\n",
              "</style>\n",
              "<table border=\"1\" class=\"dataframe\">\n",
              "  <thead>\n",
              "    <tr style=\"text-align: right;\">\n",
              "      <th></th>\n",
              "      <th>orderid</th>\n",
              "      <th>pick</th>\n",
              "      <th>1st_deliver_attempt</th>\n",
              "      <th>2nd_deliver_attempt</th>\n",
              "      <th>buyeraddress</th>\n",
              "      <th>selleraddress</th>\n",
              "      <th>buyer_city</th>\n",
              "      <th>seller_city</th>\n",
              "      <th>sla_days</th>\n",
              "    </tr>\n",
              "  </thead>\n",
              "  <tbody>\n",
              "    <tr>\n",
              "      <th>0</th>\n",
              "      <td>2215676524</td>\n",
              "      <td>2020-03-02</td>\n",
              "      <td>2020-03-05</td>\n",
              "      <td>None</td>\n",
              "      <td>Baging ldl BUENAVISTA,PATAG.CAGAYAN Buagsong,c...</td>\n",
              "      <td>Pantranco vill. 417 Warehouse# katipunan 532 (...</td>\n",
              "      <td>metro manila</td>\n",
              "      <td>metro manila</td>\n",
              "      <td>3.0</td>\n",
              "    </tr>\n",
              "    <tr>\n",
              "      <th>1</th>\n",
              "      <td>2219624609</td>\n",
              "      <td>2020-03-04</td>\n",
              "      <td>2020-03-06</td>\n",
              "      <td>2020-03-10</td>\n",
              "      <td>coloma's quzom CASANAS Site1 Masiyan 533A Stol...</td>\n",
              "      <td>BLDG 210A Moras C42B 2B16,168 church) Complex ...</td>\n",
              "      <td>metro manila</td>\n",
              "      <td>metro manila</td>\n",
              "      <td>3.0</td>\n",
              "    </tr>\n",
              "    <tr>\n",
              "      <th>2</th>\n",
              "      <td>2220979489</td>\n",
              "      <td>2020-03-04</td>\n",
              "      <td>2020-03-06</td>\n",
              "      <td>None</td>\n",
              "      <td>21-O LumangDaan,Capitangan,Abucay,Bataan .Bign...</td>\n",
              "      <td>#66 150-C, DRIVE, Milagros Joe socorro Metro M...</td>\n",
              "      <td>metro manila</td>\n",
              "      <td>metro manila</td>\n",
              "      <td>3.0</td>\n",
              "    </tr>\n",
              "    <tr>\n",
              "      <th>3</th>\n",
              "      <td>2221066352</td>\n",
              "      <td>2020-03-05</td>\n",
              "      <td>2020-03-07</td>\n",
              "      <td>None</td>\n",
              "      <td>616Espiritu MARTINVILLE,MANUYO #5paraiso kengi...</td>\n",
              "      <td>999maII 201,26 Villaruel Barretto gen.t number...</td>\n",
              "      <td>metro manila</td>\n",
              "      <td>metro manila</td>\n",
              "      <td>3.0</td>\n",
              "    </tr>\n",
              "    <tr>\n",
              "      <th>4</th>\n",
              "      <td>2222478803</td>\n",
              "      <td>2020-03-04</td>\n",
              "      <td>2020-03-06</td>\n",
              "      <td>None</td>\n",
              "      <td>L042 Summerbreezee1 L2(Balanay analyn Lot760 C...</td>\n",
              "      <td>G66MANILA Hiyas Fitness MAYSILO magdiwang Lt.4...</td>\n",
              "      <td>luzon</td>\n",
              "      <td>metro manila</td>\n",
              "      <td>5.0</td>\n",
              "    </tr>\n",
              "  </tbody>\n",
              "</table>\n",
              "</div>"
            ],
            "text/plain": [
              "      orderid        pick  ...   seller_city sla_days\n",
              "0  2215676524  2020-03-02  ...  metro manila      3.0\n",
              "1  2219624609  2020-03-04  ...  metro manila      3.0\n",
              "2  2220979489  2020-03-04  ...  metro manila      3.0\n",
              "3  2221066352  2020-03-05  ...  metro manila      3.0\n",
              "4  2222478803  2020-03-04  ...  metro manila      5.0\n",
              "\n",
              "[5 rows x 9 columns]"
            ]
          },
          "metadata": {
            "tags": []
          },
          "execution_count": 26
        }
      ]
    },
    {
      "cell_type": "code",
      "metadata": {
        "id": "m15JTdpb3WIl"
      },
      "source": [
        "# m = []\n",
        "# for i in range(len(delivery)) : \n",
        "#   delta_day = (delivery['1st_deliver_attempt'][i] - delivery['pick'][i]).days \n"
      ],
      "execution_count": null,
      "outputs": []
    },
    {
      "cell_type": "code",
      "metadata": {
        "id": "dE32-Zxq95xn"
      },
      "source": [
        "add_holiday = ['2020-03-25','2020-03-30','2020-03-31']"
      ],
      "execution_count": null,
      "outputs": []
    },
    {
      "cell_type": "code",
      "metadata": {
        "id": "HwAb-t-h4s6w",
        "colab": {
          "base_uri": "https://localhost:8080/",
          "height": 34
        },
        "outputId": "2658bd46-4c0a-4923-99c8-19dac1621633"
      },
      "source": [
        "#np.busday_count('2020-03-02','2020-03-05'\t, weekmask = '1111110')\n",
        "np.busday_count(delivery['pick'][0], delivery['1st_deliver_attempt'][0], weekmask = '1111110', holidays = add_holiday)"
      ],
      "execution_count": null,
      "outputs": [
        {
          "output_type": "execute_result",
          "data": {
            "text/plain": [
              "3"
            ]
          },
          "metadata": {
            "tags": []
          },
          "execution_count": 18
        }
      ]
    },
    {
      "cell_type": "code",
      "metadata": {
        "id": "xgh9nYisAGeY"
      },
      "source": [
        "is_late = []\n",
        "for i in range(len(delivery)) : \n",
        "  if np.busday_count(delivery['pick'][i], delivery['1st_deliver_attempt'][i], weekmask = '1111110', holidays = add_holiday) > delivery['sla_days'][i] : \n",
        "    is_late.append(1)\n",
        "  elif np.busday_count(delivery['pick'][i], delivery['1st_deliver_attempt'][i], weekmask = '1111110', holidays = add_holiday) < delivery['sla_days'][i] :\n",
        "    if delivery['2nd_deliver_attempt'][i] == None : \n",
        "      is_late.append(0)\n",
        "    elif np.busday_count(delivery['1st_deliver_attempt'][i], delivery['2nd_deliver_attempt'][i], weekmask = '1111110', holidays = add_holiday) > 3 : \n",
        "      is_late.append(1)\n",
        "    else : \n",
        "      is_late.append(0)\n",
        "  else : \n",
        "    is_late.append(0)"
      ],
      "execution_count": null,
      "outputs": []
    },
    {
      "cell_type": "code",
      "metadata": {
        "id": "4Nl9i_S4ECrR"
      },
      "source": [
        "delivery['is_late'] = is_late"
      ],
      "execution_count": null,
      "outputs": []
    },
    {
      "cell_type": "code",
      "metadata": {
        "id": "gEpxP0JBFZTW"
      },
      "source": [
        "delivery = delivery[['orderid','is_late']]"
      ],
      "execution_count": null,
      "outputs": []
    },
    {
      "cell_type": "code",
      "metadata": {
        "id": "i_lT1pwWEgYT"
      },
      "source": [
        "delivery.to_csv(r'/delivery_sixthfloor.csv')"
      ],
      "execution_count": null,
      "outputs": []
    }
  ]
}